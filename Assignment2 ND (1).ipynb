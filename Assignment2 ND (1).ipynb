{
 "cells": [
  {
   "cell_type": "code",
   "execution_count": null,
   "id": "db11493d",
   "metadata": {},
   "outputs": [],
   "source": [
    "# Normal distribution, Functions of Random Variables"
   ]
  },
  {
   "cell_type": "markdown",
   "id": "f247ccda",
   "metadata": {},
   "source": [
    "# Q1"
   ]
  },
  {
   "cell_type": "code",
   "execution_count": 8,
   "id": "2cea3782",
   "metadata": {},
   "outputs": [],
   "source": [
    "a=60\n",
    "b=55\n",
    "c=8"
   ]
  },
  {
   "cell_type": "code",
   "execution_count": 10,
   "id": "1b057291",
   "metadata": {},
   "outputs": [],
   "source": [
    "z=((a-b)/c)"
   ]
  },
  {
   "cell_type": "code",
   "execution_count": 11,
   "id": "5dee06f6",
   "metadata": {},
   "outputs": [
    {
     "data": {
      "text/plain": [
       "0.625"
      ]
     },
     "execution_count": 11,
     "metadata": {},
     "output_type": "execute_result"
    }
   ],
   "source": [
    "z"
   ]
  },
  {
   "cell_type": "code",
   "execution_count": 15,
   "id": "feba93cc",
   "metadata": {},
   "outputs": [],
   "source": [
    "import pandas as pd\n",
    "from scipy import stats"
   ]
  },
  {
   "cell_type": "code",
   "execution_count": 16,
   "id": "f84aa6ee",
   "metadata": {},
   "outputs": [
    {
     "data": {
      "text/plain": [
       "0.7340144709512995"
      ]
     },
     "execution_count": 16,
     "metadata": {},
     "output_type": "execute_result"
    }
   ],
   "source": [
    "stats.norm.cdf(z)"
   ]
  },
  {
   "cell_type": "code",
   "execution_count": 17,
   "id": "80db1932",
   "metadata": {},
   "outputs": [
    {
     "data": {
      "text/plain": [
       "0.26598552904870054"
      ]
     },
     "execution_count": 17,
     "metadata": {},
     "output_type": "execute_result"
    }
   ],
   "source": [
    "1-stats.norm.cdf(z)"
   ]
  },
  {
   "cell_type": "markdown",
   "id": "bc02f2cb",
   "metadata": {},
   "source": [
    "# Q2"
   ]
  },
  {
   "cell_type": "code",
   "execution_count": 18,
   "id": "991aa129",
   "metadata": {},
   "outputs": [],
   "source": [
    "mean=38\n",
    "std=6"
   ]
  },
  {
   "cell_type": "code",
   "execution_count": 19,
   "id": "8378b0c8",
   "metadata": {},
   "outputs": [],
   "source": [
    "z1=((44-mean)/std)"
   ]
  },
  {
   "cell_type": "code",
   "execution_count": 20,
   "id": "2ce9ebb8",
   "metadata": {},
   "outputs": [
    {
     "data": {
      "text/plain": [
       "1.0"
      ]
     },
     "execution_count": 20,
     "metadata": {},
     "output_type": "execute_result"
    }
   ],
   "source": [
    "z1"
   ]
  },
  {
   "cell_type": "code",
   "execution_count": 21,
   "id": "6487a555",
   "metadata": {},
   "outputs": [
    {
     "data": {
      "text/plain": [
       "0.8413447460685429"
      ]
     },
     "execution_count": 21,
     "metadata": {},
     "output_type": "execute_result"
    }
   ],
   "source": [
    "stats.norm.cdf(z1)"
   ]
  },
  {
   "cell_type": "code",
   "execution_count": 22,
   "id": "12a0df0c",
   "metadata": {},
   "outputs": [
    {
     "data": {
      "text/plain": [
       "0.15865525393145707"
      ]
     },
     "execution_count": 22,
     "metadata": {},
     "output_type": "execute_result"
    }
   ],
   "source": [
    "1-stats.norm.cdf(z1)             # are older than 44 age"
   ]
  },
  {
   "cell_type": "code",
   "execution_count": 23,
   "id": "0dfe61bb",
   "metadata": {},
   "outputs": [
    {
     "data": {
      "text/plain": [
       "60.0"
      ]
     },
     "execution_count": 23,
     "metadata": {},
     "output_type": "execute_result"
    }
   ],
   "source": [
    "0.15*400"
   ]
  },
  {
   "cell_type": "code",
   "execution_count": 24,
   "id": "47508250",
   "metadata": {},
   "outputs": [],
   "source": [
    "# for age 38\n",
    "z2=((38-mean)/std)"
   ]
  },
  {
   "cell_type": "code",
   "execution_count": 25,
   "id": "2a990a6e",
   "metadata": {},
   "outputs": [
    {
     "data": {
      "text/plain": [
       "0.0"
      ]
     },
     "execution_count": 25,
     "metadata": {},
     "output_type": "execute_result"
    }
   ],
   "source": [
    "z2           #i.e= 50%"
   ]
  },
  {
   "cell_type": "code",
   "execution_count": 27,
   "id": "9d41ddc2",
   "metadata": {},
   "outputs": [
    {
     "data": {
      "text/plain": [
       "136.52"
      ]
     },
     "execution_count": 27,
     "metadata": {},
     "output_type": "execute_result"
    }
   ],
   "source": [
    "0.3413*400"
   ]
  },
  {
   "cell_type": "code",
   "execution_count": null,
   "id": "7b951ce1",
   "metadata": {},
   "outputs": [],
   "source": [
    "#Hence People between 38 & 44  age = 84.13 - 50 = 34.13 % ≈  137 out of 400\n",
    "\n",
    "#Hence More employees at the processing center are older than 44 than between 38 and 44. is FALSE"
   ]
  },
  {
   "cell_type": "code",
   "execution_count": 28,
   "id": "dfb1bea8",
   "metadata": {},
   "outputs": [],
   "source": [
    "z3=((30-mean)/std)"
   ]
  },
  {
   "cell_type": "code",
   "execution_count": 29,
   "id": "9dbae0c7",
   "metadata": {},
   "outputs": [
    {
     "data": {
      "text/plain": [
       "-1.3333333333333333"
      ]
     },
     "execution_count": 29,
     "metadata": {},
     "output_type": "execute_result"
    }
   ],
   "source": [
    "z3"
   ]
  },
  {
   "cell_type": "code",
   "execution_count": 31,
   "id": "5045664a",
   "metadata": {},
   "outputs": [
    {
     "data": {
      "text/plain": [
       "0.09121121972586788"
      ]
     },
     "execution_count": 31,
     "metadata": {},
     "output_type": "execute_result"
    }
   ],
   "source": [
    "stats.norm.cdf(z3)"
   ]
  },
  {
   "cell_type": "code",
   "execution_count": 32,
   "id": "63f87b71",
   "metadata": {},
   "outputs": [
    {
     "data": {
      "text/plain": [
       "36.4"
      ]
     },
     "execution_count": 32,
     "metadata": {},
     "output_type": "execute_result"
    }
   ],
   "source": [
    "0.091*400"
   ]
  },
  {
   "cell_type": "code",
   "execution_count": null,
   "id": "2c2a4019",
   "metadata": {},
   "outputs": [],
   "source": [
    "#Hence A training program for employees under the age of 30 at the center would be expected to attract about 36 employees - TRUE\n"
   ]
  },
  {
   "cell_type": "markdown",
   "id": "d3b7db26",
   "metadata": {},
   "source": [
    "# Q3"
   ]
  },
  {
   "cell_type": "code",
   "execution_count": null,
   "id": "5d3ad71e",
   "metadata": {},
   "outputs": [],
   "source": [
    " #As we know that if  X ∼ N(µ1, σ1^2 ), and  Y ∼ N(µ2, σ2^2 ) are two independent  random variables then   X + Y ∼ N(µ1 + µ2, σ1^2 + σ2^2 ) , and  X − Y ∼ N(µ1 − µ2, σ1^2 + σ2^2 ) .\n",
    "Similarly if  Z = aX + bY , where X and Y are as defined above, i.e Z is linear combination of X and Y , then Z ∼ N(aµ1 + bµ2, a^2σ1^2 + b^2σ2^2 ).\n",
    "Therefore in the question \n",
    "2X1~ N(2 u,4 σ^2) and \n",
    "X1+X2 ~  N(µ + µ, σ^2 + σ^2 ) ~ N(2 u, 2σ^2 )\n",
    "2X1-(X1+X2) = N( 4µ,6 σ^2)"
   ]
  },
  {
   "cell_type": "markdown",
   "id": "1aa10234",
   "metadata": {},
   "source": [
    "# Q4"
   ]
  },
  {
   "cell_type": "code",
   "execution_count": 35,
   "id": "b33ecd5e",
   "metadata": {},
   "outputs": [
    {
     "data": {
      "text/plain": [
       "(48.48341392902199, 151.516586070978)"
      ]
     },
     "execution_count": 35,
     "metadata": {},
     "output_type": "execute_result"
    }
   ],
   "source": [
    "stats.norm.interval(0.99,loc=100,scale=20)"
   ]
  },
  {
   "cell_type": "markdown",
   "id": "72002a13",
   "metadata": {},
   "source": [
    "# Q5"
   ]
  },
  {
   "cell_type": "code",
   "execution_count": 42,
   "id": "1f65afbf",
   "metadata": {},
   "outputs": [],
   "source": [
    "#distributions Profit1 ~ N(5, 3) and Profit2 ~ N(7, 4) \n",
    "import numpy as np"
   ]
  },
  {
   "cell_type": "code",
   "execution_count": 40,
   "id": "396cae13",
   "metadata": {},
   "outputs": [
    {
     "name": "stdout",
     "output_type": "stream",
     "text": [
      "mean profit in Rs 540 million\n"
     ]
    }
   ],
   "source": [
    "mean=(5+7)\n",
    "print('mean profit in Rs',mean*45,'million')"
   ]
  },
  {
   "cell_type": "code",
   "execution_count": 43,
   "id": "483d5852",
   "metadata": {},
   "outputs": [
    {
     "name": "stdout",
     "output_type": "stream",
     "text": [
      "std in Rs 225.0 million\n"
     ]
    }
   ],
   "source": [
    "std=np.sqrt((9+16))\n",
    "print('std in Rs',std*45,'million')"
   ]
  },
  {
   "cell_type": "code",
   "execution_count": 45,
   "id": "d61b1caa",
   "metadata": {},
   "outputs": [
    {
     "name": "stdout",
     "output_type": "stream",
     "text": [
      "Range in Rs ((99.00810347848784, 980.9918965215122), 'in million')\n"
     ]
    }
   ],
   "source": [
    "# A. Specify a Rupee range (centered on the mean) such that it contains 95% probability for the annual profit of the company\n",
    "print('Range in Rs',(stats.norm.interval(0.95,loc=540,scale=225),'in million'))"
   ]
  },
  {
   "cell_type": "code",
   "execution_count": 47,
   "id": "83b4e761",
   "metadata": {},
   "outputs": [
    {
     "name": "stdout",
     "output_type": "stream",
     "text": [
      "5th percentile of profit (in Million Rupees) is 170.0\n"
     ]
    }
   ],
   "source": [
    "# B. Specify the 5th percentile of profit (in Rupees) for the company\n",
    "# assume probability is 0.95 so the z value is 1.645 so,\n",
    "# z=x+μ/σ so therefore x=μ-zσ, so\n",
    "x=540-(1.645)*225\n",
    "print('5th percentile of profit (in Million Rupees) is',np.round(x,))"
   ]
  },
  {
   "cell_type": "code",
   "execution_count": null,
   "id": "fe8330e0",
   "metadata": {},
   "outputs": [],
   "source": [
    "# C. Which of the two divisions has a larger probability of making a loss in a given year?"
   ]
  },
  {
   "cell_type": "code",
   "execution_count": 48,
   "id": "78ed3b9a",
   "metadata": {},
   "outputs": [
    {
     "data": {
      "text/plain": [
       "0.0477903522728147"
      ]
     },
     "execution_count": 48,
     "metadata": {},
     "output_type": "execute_result"
    }
   ],
   "source": [
    "# Probability of Division 1 making a loss P(X<0)\n",
    "stats.norm.cdf(0,5,3)"
   ]
  },
  {
   "cell_type": "code",
   "execution_count": 49,
   "id": "b46656a1",
   "metadata": {},
   "outputs": [
    {
     "data": {
      "text/plain": [
       "0.040059156863817086"
      ]
     },
     "execution_count": 49,
     "metadata": {},
     "output_type": "execute_result"
    }
   ],
   "source": [
    "# Probability of Division 2 making a loss P(X<0)\n",
    "stats.norm.cdf(0,7,4)"
   ]
  },
  {
   "cell_type": "code",
   "execution_count": null,
   "id": "b7c866b9",
   "metadata": {},
   "outputs": [],
   "source": []
  },
  {
   "cell_type": "code",
   "execution_count": null,
   "id": "e6b058eb",
   "metadata": {},
   "outputs": [],
   "source": []
  },
  {
   "cell_type": "code",
   "execution_count": null,
   "id": "ed23283e",
   "metadata": {},
   "outputs": [],
   "source": []
  },
  {
   "cell_type": "code",
   "execution_count": null,
   "id": "6d436f36",
   "metadata": {},
   "outputs": [],
   "source": []
  },
  {
   "cell_type": "code",
   "execution_count": null,
   "id": "3ca9a827",
   "metadata": {},
   "outputs": [],
   "source": []
  },
  {
   "cell_type": "code",
   "execution_count": null,
   "id": "f1389d2e",
   "metadata": {},
   "outputs": [],
   "source": []
  },
  {
   "cell_type": "code",
   "execution_count": null,
   "id": "1a043b48",
   "metadata": {},
   "outputs": [],
   "source": []
  }
 ],
 "metadata": {
  "kernelspec": {
   "display_name": "Python 3 (ipykernel)",
   "language": "python",
   "name": "python3"
  },
  "language_info": {
   "codemirror_mode": {
    "name": "ipython",
    "version": 3
   },
   "file_extension": ".py",
   "mimetype": "text/x-python",
   "name": "python",
   "nbconvert_exporter": "python",
   "pygments_lexer": "ipython3",
   "version": "3.9.13"
  }
 },
 "nbformat": 4,
 "nbformat_minor": 5
}
